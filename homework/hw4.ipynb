{
 "cells": [
  {
   "cell_type": "code",
   "execution_count": 2,
   "metadata": {},
   "outputs": [],
   "source": [
    "import sqlite3\n",
    "import pandas as pd\n",
    "from sqlalchemy import create_engine\n",
    "\n"
   ]
  },
  {
   "cell_type": "code",
   "execution_count": 3,
   "metadata": {},
   "outputs": [],
   "source": [
    "# Engine oluşturma\n",
    "engine = create_engine('sqlite:///chinook.db')\n",
    "\n",
    "# Bağlantıyı test etme\n",
    "connection = engine.connect()\n"
   ]
  },
  {
   "cell_type": "code",
   "execution_count": 15,
   "metadata": {},
   "outputs": [
    {
     "name": "stdout",
     "output_type": "stream",
     "text": [
      "(1, 'AC/DC')\n",
      "(2, 'Accept')\n",
      "(3, 'Aerosmith')\n",
      "(4, 'Alanis Morissette')\n",
      "(5, 'Alice In Chains')\n",
      "(6, 'Antônio Carlos Jobim')\n",
      "(7, 'Apocalyptica')\n",
      "(8, 'Audioslave')\n",
      "(9, 'BackBeat')\n",
      "(10, 'Billy Cobham')\n"
     ]
    }
   ],
   "source": [
    "from sqlalchemy import text\n",
    "\n",
    "# Bağlantıyı açın\n",
    "connection = engine.connect()\n",
    "\n",
    "# artists tablosundan ilk 10 satırı sorgulama\n",
    "query = text(\"SELECT * FROM artists LIMIT 10\")\n",
    "artists = connection.execute(query)\n",
    "\n",
    "# Sonuçları yazdırın\n",
    "for artist in artists:\n",
    "    print(artist)\n",
    "\n",
    "# Bağlantıyı kapatın\n",
    "connection.close()\n",
    "\n"
   ]
  },
  {
   "cell_type": "code",
   "execution_count": 16,
   "metadata": {},
   "outputs": [
    {
     "name": "stdout",
     "output_type": "stream",
     "text": [
      "Toplam albüm sayısı: 347\n"
     ]
    }
   ],
   "source": [
    "connection = engine.connect()\n",
    "\n",
    "# albums tablosundaki toplam satır sayısını sorgulama\n",
    "query = text(\"SELECT COUNT(*) FROM albums\")\n",
    "result = connection.execute(query).fetchone()[0]\n",
    "print(f\"Toplam albüm sayısı: {result}\")\n",
    "\n",
    "connection.close()\n"
   ]
  },
  {
   "cell_type": "code",
   "execution_count": 17,
   "metadata": {},
   "outputs": [
    {
     "name": "stdout",
     "output_type": "stream",
     "text": [
      "(1, 'Rock')\n",
      "(2, 'Jazz')\n",
      "(3, 'Metal')\n",
      "(4, 'Alternative & Punk')\n",
      "(5, 'Rock And Roll')\n",
      "(6, 'Blues')\n",
      "(7, 'Latin')\n",
      "(8, 'Reggae')\n",
      "(9, 'Pop')\n"
     ]
    }
   ],
   "source": [
    "connection = engine.connect()\n",
    "\n",
    "# genres tablosundan GenreId'si 10'dan küçük olan satırları sorgulama\n",
    "query = text(\"SELECT * FROM genres WHERE GenreId < 10\")\n",
    "genres = connection.execute(query)\n",
    "\n",
    "# Sonuçları yazdırın\n",
    "for genre in genres:\n",
    "    print(genre)\n",
    "\n",
    "connection.close()\n"
   ]
  },
  {
   "cell_type": "code",
   "execution_count": 21,
   "metadata": {},
   "outputs": [],
   "source": [
    "from sqlalchemy import create_engine, Column, Integer, String, ForeignKey\n",
    "from sqlalchemy.orm import declarative_base, relationship, sessionmaker\n",
    "\n",
    "# Base sınıfını doğru modülden alıyoruz\n",
    "Base = declarative_base()\n",
    "\n",
    "# Artist sınıfını tanımlıyoruz\n",
    "class Artist(Base):\n",
    "    __tablename__ = 'artists'\n",
    "    ArtistId = Column(Integer, primary_key=True)\n",
    "    Name = Column(String, nullable=False)  # Sanatçı adını boş geçemeyiz\n",
    "    albums = relationship('Album', back_populates='artist')  # Album ile ilişki kuruyoruz\n",
    "\n",
    "# Album sınıfını tanımlıyoruz\n",
    "class Album(Base):\n",
    "    __tablename__ = 'albums'\n",
    "    AlbumId = Column(Integer, primary_key=True)\n",
    "    Title = Column(String, nullable=False)  # Albüm başlığını boş geçemeyiz\n",
    "    ArtistId = Column(Integer, ForeignKey('artists.ArtistId'))  # ForeignKey ile ilişki kuruyoruz\n",
    "    artist = relationship('Artist', back_populates='albums')  # Artist ile ilişki kuruyoruz\n"
   ]
  },
  {
   "cell_type": "code",
   "execution_count": 22,
   "metadata": {},
   "outputs": [
    {
     "name": "stdout",
     "output_type": "stream",
     "text": [
      "Sanatçı: Metallica\n",
      "Albüm: Garage Inc. (Disc 1)\n",
      "Albüm: Black Album\n",
      "Albüm: Garage Inc. (Disc 2)\n",
      "Albüm: Kill 'Em All\n",
      "Albüm: Load\n",
      "Albüm: Master Of Puppets\n",
      "Albüm: ReLoad\n",
      "Albüm: Ride The Lightning\n",
      "Albüm: St. Anger\n",
      "Albüm: ...And Justice For All\n"
     ]
    }
   ],
   "source": [
    "# SQLAlchemy bağlantı motorunu oluşturuyoruz\n",
    "engine = create_engine('sqlite:///chinook.db')\n",
    "\n",
    "# Tabloları veritabanında oluşturuyoruz\n",
    "Base.metadata.create_all(engine)\n",
    "\n",
    "# Veritabanı bağlantısı için sessionmaker'ı tanımlıyoruz\n",
    "Session = sessionmaker(bind=engine)\n",
    "session = Session()\n",
    "\n",
    "# ORM bağlantısının çalıştığını test edelim\n",
    "artist = session.query(Artist).filter_by(Name='Metallica').first()\n",
    "if artist:\n",
    "    print(f\"Sanatçı: {artist.Name}\")\n",
    "    for album in artist.albums:\n",
    "        print(f\"Albüm: {album.Title}\")\n",
    "else:\n",
    "    print(\"Sanatçı bulunamadı.\")\n"
   ]
  },
  {
   "cell_type": "code",
   "execution_count": 23,
   "metadata": {},
   "outputs": [
    {
     "name": "stdout",
     "output_type": "stream",
     "text": [
      "AC/DC\n",
      "Accept\n",
      "Aerosmith\n",
      "Alanis Morissette\n",
      "Alice In Chains\n",
      "Antônio Carlos Jobim\n",
      "Apocalyptica\n",
      "Audioslave\n",
      "Azymuth\n",
      "A Cor Do Som\n",
      "Aquaman\n",
      "Aerosmith & Sierra Leone's Refugee Allstars\n",
      "Avril Lavigne\n",
      "Aisha Duo\n",
      "Aaron Goldberg\n",
      "Alberto Turco & Nova Schola Gregoriana\n",
      "Anne-Sophie Mutter, Herbert Von Karajan & Wiener Philharmoniker\n",
      "Academy of St. Martin in the Fields & Sir Neville Marriner\n",
      "Academy of St. Martin in the Fields Chamber Ensemble & Sir Neville Marriner\n",
      "Academy of St. Martin in the Fields, John Birch, Sir Neville Marriner & Sylvia McNair\n",
      "Aaron Copland & London Symphony Orchestra\n",
      "Academy of St. Martin in the Fields, Sir Neville Marriner & William Bennett\n",
      "Antal Doráti & London Symphony Orchestra\n",
      "Amy Winehouse\n",
      "Academy of St. Martin in the Fields, Sir Neville Marriner & Thurston Dart\n",
      "Adrian Leaper & Doreen de Feis\n"
     ]
    }
   ],
   "source": [
    "artists_a = session.query(Artist).filter(Artist.Name.like('A%')).all()\n",
    "for artist in artists_a:\n",
    "    print(artist.Name)\n"
   ]
  },
  {
   "cell_type": "code",
   "execution_count": 25,
   "metadata": {},
   "outputs": [
    {
     "name": "stdout",
     "output_type": "stream",
     "text": [
      "Garage Inc. (Disc 1)\n",
      "Black Album\n",
      "Garage Inc. (Disc 2)\n",
      "Kill 'Em All\n",
      "Load\n",
      "Master Of Puppets\n",
      "ReLoad\n",
      "Ride The Lightning\n",
      "St. Anger\n",
      "...And Justice For All\n"
     ]
    }
   ],
   "source": [
    "metallica_albums = session.query(Album).join(Artist).filter(Artist.Name == 'Metallica').all()\n",
    "for album in metallica_albums:\n",
    "    print(album.Title)\n"
   ]
  },
  {
   "cell_type": "code",
   "execution_count": 26,
   "metadata": {},
   "outputs": [
    {
     "name": "stdout",
     "output_type": "stream",
     "text": [
      "AC/DC: 2 albüm\n",
      "Aaron Copland & London Symphony Orchestra: 1 albüm\n",
      "Aaron Goldberg: 1 albüm\n",
      "Academy of St. Martin in the Fields & Sir Neville Marriner: 1 albüm\n",
      "Academy of St. Martin in the Fields Chamber Ensemble & Sir Neville Marriner: 1 albüm\n",
      "Academy of St. Martin in the Fields, John Birch, Sir Neville Marriner & Sylvia McNair: 1 albüm\n",
      "Academy of St. Martin in the Fields, Sir Neville Marriner & Thurston Dart: 1 albüm\n",
      "Accept: 2 albüm\n",
      "Adrian Leaper & Doreen de Feis: 1 albüm\n",
      "Aerosmith: 1 albüm\n",
      "Aisha Duo: 1 albüm\n",
      "Alanis Morissette: 1 albüm\n",
      "Alberto Turco & Nova Schola Gregoriana: 1 albüm\n",
      "Alice In Chains: 1 albüm\n",
      "Amy Winehouse: 2 albüm\n",
      "Anne-Sophie Mutter, Herbert Von Karajan & Wiener Philharmoniker: 1 albüm\n",
      "Antal Doráti & London Symphony Orchestra: 1 albüm\n",
      "Antônio Carlos Jobim: 2 albüm\n",
      "Apocalyptica: 1 albüm\n",
      "Aquaman: 1 albüm\n",
      "Audioslave: 3 albüm\n",
      "BackBeat: 1 albüm\n",
      "Barry Wordsworth & BBC Concert Orchestra: 1 albüm\n",
      "Battlestar Galactica: 2 albüm\n",
      "Battlestar Galactica (Classic): 1 albüm\n",
      "Berliner Philharmoniker & Hans Rosbaud: 1 albüm\n",
      "Berliner Philharmoniker & Herbert Von Karajan: 3 albüm\n",
      "Berliner Philharmoniker, Claudio Abbado & Sabine Meyer: 1 albüm\n",
      "Billy Cobham: 1 albüm\n",
      "Black Label Society: 2 albüm\n",
      "Black Sabbath: 2 albüm\n",
      "Body Count: 1 albüm\n",
      "Boston Symphony Orchestra & Seiji Ozawa: 1 albüm\n",
      "Britten Sinfonia, Ivor Bolton & Lesley Garrett: 1 albüm\n",
      "Bruce Dickinson: 1 albüm\n",
      "Buddy Guy: 1 albüm\n",
      "C. Monteverdi, Nigel Rogers - Chiaroscuro; London Baroque; London Cornett & Sackbu: 1 albüm\n",
      "Caetano Veloso: 2 albüm\n",
      "Cake: 1 albüm\n",
      "Calexico: 1 albüm\n",
      "Charles Dutoit & L'Orchestre Symphonique de Montréal: 1 albüm\n",
      "Chicago Symphony Chorus, Chicago Symphony Orchestra & Sir Georg Solti: 1 albüm\n",
      "Chicago Symphony Orchestra & Fritz Reiner: 1 albüm\n",
      "Chico Buarque: 1 albüm\n",
      "Chico Science & Nação Zumbi: 2 albüm\n",
      "Choir Of Westminster Abbey & Simon Preston: 1 albüm\n",
      "Chor der Wiener Staatsoper, Herbert Von Karajan & Wiener Philharmoniker: 1 albüm\n",
      "Chris Cornell: 1 albüm\n",
      "Christopher O'Riley: 1 albüm\n",
      "Cidade Negra: 2 albüm\n",
      "Cláudio Zoli: 1 albüm\n",
      "Creedence Clearwater Revival: 2 albüm\n",
      "Cássia Eller: 2 albüm\n",
      "David Coverdale: 1 albüm\n",
      "Deep Purple: 11 albüm\n",
      "Def Leppard: 1 albüm\n",
      "Dennis Chambers: 1 albüm\n",
      "Djavan: 2 albüm\n",
      "Dread Zeppelin: 1 albüm\n",
      "Ed Motta: 1 albüm\n",
      "Edo de Waart & San Francisco Symphony: 1 albüm\n",
      "Elis Regina: 1 albüm\n",
      "Emanuel Ax, Eugene Ormandy & Philadelphia Orchestra: 1 albüm\n",
      "Emerson String Quartet: 1 albüm\n",
      "English Concert & Trevor Pinnock: 2 albüm\n",
      "Equale Brass Ensemble, John Eliot Gardiner & Munich Monteverdi Orchestra and Choir: 1 albüm\n",
      "Eric Clapton: 2 albüm\n",
      "Eugene Ormandy: 3 albüm\n",
      "Faith No More: 4 albüm\n",
      "Falamansa: 1 albüm\n",
      "Felix Schmidt, London Symphony Orchestra & Rafael Frühbeck de Burgos: 1 albüm\n",
      "Foo Fighters: 4 albüm\n",
      "Frank Sinatra: 1 albüm\n",
      "Frank Zappa & Captain Beefheart: 1 albüm\n",
      "Fretwork: 1 albüm\n",
      "Funk Como Le Gusta: 1 albüm\n",
      "Gene Krupa: 1 albüm\n",
      "Gerald Moore: 1 albüm\n",
      "Gilberto Gil: 3 albüm\n",
      "Godsmack: 1 albüm\n",
      "Gonzaguinha: 1 albüm\n",
      "Green Day: 2 albüm\n",
      "Guns N' Roses: 3 albüm\n",
      "Gustav Mahler: 1 albüm\n",
      "Göteborgs Symfoniker & Neeme Järvi: 1 albüm\n",
      "Habib Koité and Bamada: 1 albüm\n",
      "Herbert Von Karajan, Mirella Freni & Wiener Philharmoniker: 1 albüm\n",
      "Heroes: 1 albüm\n",
      "Hilary Hahn, Jeffrey Kahane, Los Angeles Chamber Orchestra & Margaret Batjer: 1 albüm\n",
      "House Of Pain: 1 albüm\n",
      "Incognito: 1 albüm\n",
      "Iron Maiden: 21 albüm\n",
      "Itzhak Perlman: 1 albüm\n",
      "JET: 1 albüm\n",
      "James Brown: 1 albüm\n",
      "James Levine: 1 albüm\n",
      "Jamiroquai: 3 albüm\n",
      "Jimi Hendrix: 1 albüm\n",
      "Joe Satriani: 1 albüm\n",
      "Jorge Ben: 1 albüm\n",
      "Jota Quest: 1 albüm\n",
      "João Suplicy: 1 albüm\n",
      "Judas Priest: 1 albüm\n",
      "Julian Bream: 1 albüm\n",
      "Karsh Kale: 1 albüm\n",
      "Kent Nagano and Orchestre de l'Opéra de Lyon: 1 albüm\n",
      "Kiss: 2 albüm\n",
      "Led Zeppelin: 14 albüm\n",
      "Legião Urbana: 2 albüm\n",
      "Lenny Kravitz: 1 albüm\n",
      "Leonard Bernstein & New York Philharmonic: 1 albüm\n",
      "Les Arts Florissants & William Christie: 1 albüm\n",
      "London Symphony Orchestra & Sir Charles Mackerras: 1 albüm\n",
      "Lost: 4 albüm\n",
      "Luciana Souza/Romero Lubambo: 1 albüm\n",
      "Luciano Pavarotti: 1 albüm\n",
      "Lulu Santos: 2 albüm\n",
      "Marcos Valle: 1 albüm\n",
      "Marillion: 1 albüm\n",
      "Marisa Monte: 1 albüm\n",
      "Martin Roscoe: 1 albüm\n",
      "Marvin Gaye: 1 albüm\n",
      "Maurizio Pollini: 1 albüm\n",
      "Mela Tenenbaum, Pro Musica Prague & Richard Kapp: 1 albüm\n",
      "Men At Work: 1 albüm\n",
      "Metallica: 10 albüm\n",
      "Michael Tilson Thomas & San Francisco Symphony: 2 albüm\n",
      "Michele Campanella: 1 albüm\n",
      "Miles Davis: 3 albüm\n",
      "Milton Nascimento: 2 albüm\n",
      "Motörhead: 1 albüm\n",
      "Mônica Marianno: 1 albüm\n",
      "Mötley Crüe: 1 albüm\n",
      "Nash Ensemble: 1 albüm\n",
      "Nicolaus Esterhazy Sinfonia: 1 albüm\n",
      "Nirvana: 2 albüm\n",
      "O Rappa: 1 albüm\n",
      "O Terço: 1 albüm\n",
      "Olodum: 1 albüm\n",
      "Orchestra of The Age of Enlightenment: 1 albüm\n",
      "Orchestre Révolutionnaire et Romantique & John Eliot Gardiner: 1 albüm\n",
      "Os Mutantes: 1 albüm\n",
      "Os Paralamas Do Sucesso: 3 albüm\n",
      "Otto Klemperer & Philharmonia Orchestra: 1 albüm\n",
      "Ozzy Osbourne: 6 albüm\n",
      "Page & Plant: 1 albüm\n",
      "Passengers: 1 albüm\n",
      "Paul D'Ianno: 1 albüm\n",
      "Pearl Jam: 5 albüm\n",
      "Philharmonia Orchestra & Sir Neville Marriner: 1 albüm\n",
      "Philip Glass Ensemble: 1 albüm\n",
      "Pink Floyd: 1 albüm\n",
      "Planet Hemp: 1 albüm\n",
      "Queen: 3 albüm\n",
      "R.E.M.: 3 albüm\n",
      "R.E.M. Feat. Kate Pearson: 1 albüm\n",
      "Raimundos: 1 albüm\n",
      "Raul Seixas: 1 albüm\n",
      "Red Hot Chili Peppers: 3 albüm\n",
      "Richard Marlow & The Choir of Trinity College, Cambridge: 1 albüm\n",
      "Roger Norrington, London Classical Players: 1 albüm\n",
      "Royal Philharmonic Orchestra & Sir Thomas Beecham: 1 albüm\n",
      "Rush: 1 albüm\n",
      "Santana: 3 albüm\n",
      "Scholars Baroque Ensemble: 1 albüm\n",
      "Scorpions: 1 albüm\n",
      "Sergei Prokofiev & Yuri Temirkanov: 1 albüm\n",
      "Sir Georg Solti & Wiener Philharmoniker: 1 albüm\n",
      "Sir Georg Solti, Sumi Jo & Wiener Philharmoniker: 1 albüm\n",
      "Skank: 2 albüm\n",
      "Smashing Pumpkins: 2 albüm\n",
      "Soundgarden: 1 albüm\n",
      "Spyro Gyra: 2 albüm\n",
      "Stevie Ray Vaughan & Double Trouble: 1 albüm\n",
      "Stone Temple Pilots: 1 albüm\n",
      "System Of A Down: 1 albüm\n",
      "Temple of the Dog: 1 albüm\n",
      "Terry Bozzio, Tony Levin & Steve Stevens: 1 albüm\n",
      "The 12 Cellists of The Berlin Philharmonic: 1 albüm\n",
      "The Black Crowes: 2 albüm\n",
      "The Clash: 1 albüm\n",
      "The Cult: 2 albüm\n",
      "The Doors: 1 albüm\n",
      "The King's Singers: 1 albüm\n",
      "The Office: 3 albüm\n",
      "The Police: 1 albüm\n",
      "The Posies: 1 albüm\n",
      "The Rolling Stones: 3 albüm\n",
      "The Tea Party: 2 albüm\n",
      "The Who: 1 albüm\n",
      "Tim Maia: 2 albüm\n",
      "Titãs: 2 albüm\n",
      "Ton Koopman: 1 albüm\n",
      "Toquinho & Vinícius: 1 albüm\n",
      "U2: 10 albüm\n",
      "UB40: 1 albüm\n",
      "Van Halen: 4 albüm\n",
      "Various Artists: 4 albüm\n",
      "Velvet Revolver: 1 albüm\n",
      "Vinícius De Moraes: 1 albüm\n",
      "Wilhelm Kempff: 1 albüm\n",
      "Yehudi Menuhin: 1 albüm\n",
      "Yo-Yo Ma: 1 albüm\n",
      "Zeca Pagodinho: 1 albüm\n"
     ]
    }
   ],
   "source": [
    "from sqlalchemy import func\n",
    "\n",
    "album_count_by_artist = session.query(Artist.Name, func.count(Album.AlbumId)) \\\n",
    "                               .join(Album) \\\n",
    "                               .group_by(Artist.ArtistId) \\\n",
    "                               .order_by(Artist.Name).all()\n",
    "\n",
    "for artist, count in album_count_by_artist:\n",
    "    print(f\"{artist}: {count} albüm\")\n"
   ]
  },
  {
   "cell_type": "code",
   "execution_count": 27,
   "metadata": {},
   "outputs": [],
   "source": [
    "import pandas as pd\n",
    "\n",
    "invoices_df = pd.read_sql('SELECT * FROM invoices', engine)\n"
   ]
  },
  {
   "cell_type": "code",
   "execution_count": 28,
   "metadata": {},
   "outputs": [
    {
     "name": "stdout",
     "output_type": "stream",
     "text": [
      "    BillingCountry   Total\n",
      "0        Argentina   37.62\n",
      "1        Australia   37.62\n",
      "2          Austria   42.62\n",
      "3          Belgium   37.62\n",
      "4           Brazil  190.10\n",
      "5           Canada  303.96\n",
      "6            Chile   46.62\n",
      "7   Czech Republic   90.24\n",
      "8          Denmark   37.62\n",
      "9          Finland   41.62\n",
      "10          France  195.10\n",
      "11         Germany  156.48\n",
      "12         Hungary   45.62\n",
      "13           India   75.26\n",
      "14         Ireland   45.62\n",
      "15           Italy   37.62\n",
      "16     Netherlands   40.62\n",
      "17          Norway   39.62\n",
      "18          Poland   37.62\n",
      "19        Portugal   77.24\n",
      "20           Spain   37.62\n",
      "21          Sweden   38.62\n",
      "22             USA  523.06\n",
      "23  United Kingdom  112.86\n"
     ]
    }
   ],
   "source": [
    "revenue_by_country = invoices_df.groupby('BillingCountry')['Total'].sum().reset_index()\n",
    "print(revenue_by_country)\n"
   ]
  },
  {
   "cell_type": "code",
   "execution_count": 29,
   "metadata": {},
   "outputs": [
    {
     "name": "stdout",
     "output_type": "stream",
     "text": [
      "   CustomerId  Total\n",
      "0           6  49.62\n",
      "1          26  47.62\n",
      "2          57  46.62\n",
      "3          45  45.62\n",
      "4          46  45.62\n"
     ]
    }
   ],
   "source": [
    "top_5_customers = invoices_df.groupby('CustomerId')['Total'].sum().nlargest(5).reset_index()\n",
    "print(top_5_customers)\n"
   ]
  },
  {
   "cell_type": "code",
   "execution_count": 30,
   "metadata": {},
   "outputs": [
    {
     "data": {
      "image/png": "[encoded data removed]",
      "text/plain": [
       "<Figure size 640x480 with 1 Axes>"
      ]
     },
     "metadata": {},
     "output_type": "display_data"
    }
   ],
   "source": [
    "import matplotlib.pyplot as plt\n",
    "\n",
    "revenue_by_country.plot(kind='bar', x='BillingCountry', y='Total')\n",
    "plt.title('Toplam Gelir Ülkeye Göre')\n",
    "plt.xlabel('Ülke')\n",
    "plt.ylabel('Toplam Gelir')\n",
    "plt.show()\n"
   ]
  },
  {
   "cell_type": "code",
   "execution_count": 35,
   "metadata": {},
   "outputs": [
    {
     "name": "stdout",
     "output_type": "stream",
     "text": [
      "(2, 2)\n",
      "(8, 2)\n",
      "(9, 2)\n",
      "(20, 2)\n",
      "(32, 2)\n"
     ]
    }
   ],
   "source": [
    "from sqlalchemy import create_engine, text\n",
    "\n",
    "# Veritabanına bağlantı kurma\n",
    "connection = engine.connect()\n",
    "\n",
    "# Top 5 şarkıyı sorgulama\n",
    "query = text(\"\"\"\n",
    "    SELECT TrackId, COUNT(*) AS PlayCount\n",
    "    FROM invoice_items\n",
    "    GROUP BY TrackId\n",
    "    ORDER BY PlayCount DESC\n",
    "    LIMIT 5\n",
    "\"\"\")\n",
    "top_5_tracks = connection.execute(query)\n",
    "\n",
    "# Sonuçları yazdırma\n",
    "for track in top_5_tracks:\n",
    "    print(track)\n",
    "\n",
    "\n"
   ]
  },
  {
   "cell_type": "code",
   "execution_count": 36,
   "metadata": {},
   "outputs": [
    {
     "name": "stdout",
     "output_type": "stream",
     "text": [
      "('Rock', 283910.0431765613)\n",
      "('Jazz', 291755.3769230769)\n",
      "('Metal', 309749.4438502674)\n",
      "('Alternative & Punk', 234353.84939759035)\n",
      "('Rock And Roll', 134643.5)\n",
      "('Blues', 270359.77777777775)\n",
      "('Latin', 232859.26252158894)\n",
      "('Reggae', 247177.75862068965)\n",
      "('Pop', 229034.10416666666)\n",
      "('Soundtrack', 244370.88372093023)\n",
      "('Bossa Nova', 219590.0)\n",
      "('Easy Listening', 189164.20833333334)\n",
      "('Heavy Metal', 297452.9285714286)\n",
      "('R&B/Soul', 220066.8524590164)\n",
      "('Electronica/Dance', 302985.8)\n",
      "('World', 224923.82142857142)\n",
      "('Hip Hop/Rap', 178176.2857142857)\n",
      "('Science Fiction', 2625549.076923077)\n",
      "('TV Shows', 2145041.0215053763)\n",
      "('Sci Fi & Fantasy', 2911783.0384615385)\n",
      "('Drama', 2575283.78125)\n",
      "('Comedy', 1585263.705882353)\n",
      "('Alternative', 264058.525)\n",
      "('Classical', 293867.5675675676)\n",
      "('Opera', 174813.0)\n"
     ]
    }
   ],
   "source": [
    "query = text(\"\"\"\n",
    "    SELECT g.Name, AVG(t.Milliseconds) AS AvgLength\n",
    "    FROM tracks t\n",
    "    JOIN genres g ON t.GenreId = g.GenreId\n",
    "    GROUP BY g.GenreId\n",
    "\"\"\")\n",
    "avg_track_length_by_genre = connection.execute(query)\n",
    "\n",
    "# Sonuçları yazdırma\n",
    "for genre in avg_track_length_by_genre:\n",
    "    print(genre)\n",
    "\n"
   ]
  },
  {
   "cell_type": "code",
   "execution_count": 38,
   "metadata": {},
   "outputs": [
    {
     "name": "stdout",
     "output_type": "stream",
     "text": [
      "('Rock', 283910.0431765613)\n",
      "('Jazz', 291755.3769230769)\n",
      "('Metal', 309749.4438502674)\n",
      "('Alternative & Punk', 234353.84939759035)\n",
      "('Rock And Roll', 134643.5)\n",
      "('Blues', 270359.77777777775)\n",
      "('Latin', 232859.26252158894)\n",
      "('Reggae', 247177.75862068965)\n",
      "('Pop', 229034.10416666666)\n",
      "('Soundtrack', 244370.88372093023)\n",
      "('Bossa Nova', 219590.0)\n",
      "('Easy Listening', 189164.20833333334)\n",
      "('Heavy Metal', 297452.9285714286)\n",
      "('R&B/Soul', 220066.8524590164)\n",
      "('Electronica/Dance', 302985.8)\n",
      "('World', 224923.82142857142)\n",
      "('Hip Hop/Rap', 178176.2857142857)\n",
      "('Science Fiction', 2625549.076923077)\n",
      "('TV Shows', 2145041.0215053763)\n",
      "('Sci Fi & Fantasy', 2911783.0384615385)\n",
      "('Drama', 2575283.78125)\n",
      "('Comedy', 1585263.705882353)\n",
      "('Alternative', 264058.525)\n",
      "('Classical', 293867.5675675676)\n",
      "('Opera', 174813.0)\n"
     ]
    }
   ],
   "source": [
    "query = text(\"\"\"\n",
    "    SELECT g.Name, AVG(t.Milliseconds) AS AvgLength\n",
    "    FROM tracks t\n",
    "    JOIN genres g ON t.GenreId = g.GenreId\n",
    "    GROUP BY g.GenreId\n",
    "\"\"\")\n",
    "avg_track_length_by_genre = connection.execute(query)\n",
    "\n",
    "# Sonuçları yazdırma\n",
    "for genre in avg_track_length_by_genre:\n",
    "    print(genre)\n"
   ]
  },
  {
   "cell_type": "code",
   "execution_count": 43,
   "metadata": {},
   "outputs": [
    {
     "name": "stderr",
     "output_type": "stream",
     "text": [
      "/var/folders/v3/p30r3kw502zc4g5s4k8j6td40000gn/T/ipykernel_8984/3061955857.py:4: SAWarning: Object of type <Album> not in session, add operation along 'Artist.albums' will not proceed\n",
      "  session.commit()\n"
     ]
    },
    {
     "ename": "TypeError",
     "evalue": "'ReleaseDate' is an invalid keyword argument for Album",
     "output_type": "error",
     "traceback": [
      "\u001b[0;31m---------------------------------------------------------------------------\u001b[0m",
      "\u001b[0;31mTypeError\u001b[0m                                 Traceback (most recent call last)",
      "Cell \u001b[0;32mIn[43], line 7\u001b[0m\n\u001b[1;32m      4\u001b[0m session\u001b[38;5;241m.\u001b[39mcommit()\n\u001b[1;32m      6\u001b[0m \u001b[38;5;66;03m# Adding an album to the new artist\u001b[39;00m\n\u001b[0;32m----> 7\u001b[0m new_album \u001b[38;5;241m=\u001b[39m \u001b[43mAlbum\u001b[49m\u001b[43m(\u001b[49m\u001b[43mTitle\u001b[49m\u001b[38;5;241;43m=\u001b[39;49m\u001b[38;5;124;43m'\u001b[39;49m\u001b[38;5;124;43mNew Album\u001b[39;49m\u001b[38;5;124;43m'\u001b[39;49m\u001b[43m,\u001b[49m\u001b[43m \u001b[49m\u001b[43martist\u001b[49m\u001b[38;5;241;43m=\u001b[39;49m\u001b[43mnew_artist\u001b[49m\u001b[43m,\u001b[49m\u001b[43m \u001b[49m\u001b[43mReleaseDate\u001b[49m\u001b[38;5;241;43m=\u001b[39;49m\u001b[38;5;124;43m'\u001b[39;49m\u001b[38;5;124;43m2023-12-01\u001b[39;49m\u001b[38;5;124;43m'\u001b[39;49m\u001b[43m)\u001b[49m\n\u001b[1;32m      8\u001b[0m session\u001b[38;5;241m.\u001b[39madd(new_album)\n\u001b[1;32m      9\u001b[0m session\u001b[38;5;241m.\u001b[39mcommit()\n",
      "File \u001b[0;32m<string>:4\u001b[0m, in \u001b[0;36m__init__\u001b[0;34m(self, **kwargs)\u001b[0m\n",
      "File \u001b[0;32m/Library/Frameworks/Python.framework/Versions/3.12/lib/python3.12/site-packages/sqlalchemy/orm/state.py:571\u001b[0m, in \u001b[0;36mInstanceState._initialize_instance\u001b[0;34m(*mixed, **kwargs)\u001b[0m\n\u001b[1;32m    569\u001b[0m     manager\u001b[38;5;241m.\u001b[39moriginal_init(\u001b[38;5;241m*\u001b[39mmixed[\u001b[38;5;241m1\u001b[39m:], \u001b[38;5;241m*\u001b[39m\u001b[38;5;241m*\u001b[39mkwargs)\n\u001b[1;32m    570\u001b[0m \u001b[38;5;28;01mexcept\u001b[39;00m:\n\u001b[0;32m--> 571\u001b[0m \u001b[43m    \u001b[49m\u001b[38;5;28;43;01mwith\u001b[39;49;00m\u001b[43m \u001b[49m\u001b[43mutil\u001b[49m\u001b[38;5;241;43m.\u001b[39;49m\u001b[43msafe_reraise\u001b[49m\u001b[43m(\u001b[49m\u001b[43m)\u001b[49m\u001b[43m:\u001b[49m\n\u001b[1;32m    572\u001b[0m \u001b[43m        \u001b[49m\u001b[43mmanager\u001b[49m\u001b[38;5;241;43m.\u001b[39;49m\u001b[43mdispatch\u001b[49m\u001b[38;5;241;43m.\u001b[39;49m\u001b[43minit_failure\u001b[49m\u001b[43m(\u001b[49m\u001b[38;5;28;43mself\u001b[39;49m\u001b[43m,\u001b[49m\u001b[43m \u001b[49m\u001b[43margs\u001b[49m\u001b[43m,\u001b[49m\u001b[43m \u001b[49m\u001b[43mkwargs\u001b[49m\u001b[43m)\u001b[49m\n",
      "File \u001b[0;32m/Library/Frameworks/Python.framework/Versions/3.12/lib/python3.12/site-packages/sqlalchemy/util/langhelpers.py:146\u001b[0m, in \u001b[0;36msafe_reraise.__exit__\u001b[0;34m(self, type_, value, traceback)\u001b[0m\n\u001b[1;32m    144\u001b[0m     \u001b[38;5;28;01massert\u001b[39;00m exc_value \u001b[38;5;129;01mis\u001b[39;00m \u001b[38;5;129;01mnot\u001b[39;00m \u001b[38;5;28;01mNone\u001b[39;00m\n\u001b[1;32m    145\u001b[0m     \u001b[38;5;28mself\u001b[39m\u001b[38;5;241m.\u001b[39m_exc_info \u001b[38;5;241m=\u001b[39m \u001b[38;5;28;01mNone\u001b[39;00m  \u001b[38;5;66;03m# remove potential circular references\u001b[39;00m\n\u001b[0;32m--> 146\u001b[0m     \u001b[38;5;28;01mraise\u001b[39;00m exc_value\u001b[38;5;241m.\u001b[39mwith_traceback(exc_tb)\n\u001b[1;32m    147\u001b[0m \u001b[38;5;28;01melse\u001b[39;00m:\n\u001b[1;32m    148\u001b[0m     \u001b[38;5;28mself\u001b[39m\u001b[38;5;241m.\u001b[39m_exc_info \u001b[38;5;241m=\u001b[39m \u001b[38;5;28;01mNone\u001b[39;00m  \u001b[38;5;66;03m# remove potential circular references\u001b[39;00m\n",
      "File \u001b[0;32m/Library/Frameworks/Python.framework/Versions/3.12/lib/python3.12/site-packages/sqlalchemy/orm/state.py:569\u001b[0m, in \u001b[0;36mInstanceState._initialize_instance\u001b[0;34m(*mixed, **kwargs)\u001b[0m\n\u001b[1;32m    566\u001b[0m manager\u001b[38;5;241m.\u001b[39mdispatch\u001b[38;5;241m.\u001b[39minit(\u001b[38;5;28mself\u001b[39m, args, kwargs)\n\u001b[1;32m    568\u001b[0m \u001b[38;5;28;01mtry\u001b[39;00m:\n\u001b[0;32m--> 569\u001b[0m     \u001b[43mmanager\u001b[49m\u001b[38;5;241;43m.\u001b[39;49m\u001b[43moriginal_init\u001b[49m\u001b[43m(\u001b[49m\u001b[38;5;241;43m*\u001b[39;49m\u001b[43mmixed\u001b[49m\u001b[43m[\u001b[49m\u001b[38;5;241;43m1\u001b[39;49m\u001b[43m:\u001b[49m\u001b[43m]\u001b[49m\u001b[43m,\u001b[49m\u001b[43m \u001b[49m\u001b[38;5;241;43m*\u001b[39;49m\u001b[38;5;241;43m*\u001b[39;49m\u001b[43mkwargs\u001b[49m\u001b[43m)\u001b[49m\n\u001b[1;32m    570\u001b[0m \u001b[38;5;28;01mexcept\u001b[39;00m:\n\u001b[1;32m    571\u001b[0m     \u001b[38;5;28;01mwith\u001b[39;00m util\u001b[38;5;241m.\u001b[39msafe_reraise():\n",
      "File \u001b[0;32m/Library/Frameworks/Python.framework/Versions/3.12/lib/python3.12/site-packages/sqlalchemy/orm/decl_base.py:2177\u001b[0m, in \u001b[0;36m_declarative_constructor\u001b[0;34m(self, **kwargs)\u001b[0m\n\u001b[1;32m   2175\u001b[0m \u001b[38;5;28;01mfor\u001b[39;00m k \u001b[38;5;129;01min\u001b[39;00m kwargs:\n\u001b[1;32m   2176\u001b[0m     \u001b[38;5;28;01mif\u001b[39;00m \u001b[38;5;129;01mnot\u001b[39;00m \u001b[38;5;28mhasattr\u001b[39m(cls_, k):\n\u001b[0;32m-> 2177\u001b[0m         \u001b[38;5;28;01mraise\u001b[39;00m \u001b[38;5;167;01mTypeError\u001b[39;00m(\n\u001b[1;32m   2178\u001b[0m             \u001b[38;5;124m\"\u001b[39m\u001b[38;5;132;01m%r\u001b[39;00m\u001b[38;5;124m is an invalid keyword argument for \u001b[39m\u001b[38;5;132;01m%s\u001b[39;00m\u001b[38;5;124m\"\u001b[39m \u001b[38;5;241m%\u001b[39m (k, cls_\u001b[38;5;241m.\u001b[39m\u001b[38;5;18m__name__\u001b[39m)\n\u001b[1;32m   2179\u001b[0m         )\n\u001b[1;32m   2180\u001b[0m     \u001b[38;5;28msetattr\u001b[39m(\u001b[38;5;28mself\u001b[39m, k, kwargs[k])\n",
      "\u001b[0;31mTypeError\u001b[0m: 'ReleaseDate' is an invalid keyword argument for Album"
     ]
    }
   ],
   "source": [
    "# Step 8: Add a new artist and their albums to the database using ORM\n",
    "new_artist = Artist(Name='New Artist')\n",
    "session.add(new_artist)\n",
    "session.commit()\n",
    "\n",
    "# Adding an album to the new artist\n",
    "new_album = Album(Title='New Album', artist=new_artist, ReleaseDate='2023-12-01')\n",
    "session.add(new_album)\n",
    "session.commit()\n",
    "print(\"New artist and album have been added successfully.\")\n"
   ]
  },
  {
   "cell_type": "code",
   "execution_count": 40,
   "metadata": {},
   "outputs": [
    {
     "ename": "AttributeError",
     "evalue": "type object 'Album' has no attribute 'ReleaseDate'",
     "output_type": "error",
     "traceback": [
      "\u001b[0;31m---------------------------------------------------------------------------\u001b[0m",
      "\u001b[0;31mAttributeError\u001b[0m                            Traceback (most recent call last)",
      "Cell \u001b[0;32mIn[40], line 7\u001b[0m\n\u001b[1;32m      4\u001b[0m     \u001b[38;5;28;01mreturn\u001b[39;00m recent_album\n\u001b[1;32m      6\u001b[0m \u001b[38;5;66;03m# Metallica için en son albümü sorgulama\u001b[39;00m\n\u001b[0;32m----> 7\u001b[0m recent_album \u001b[38;5;241m=\u001b[39m \u001b[43mget_most_recent_album_by_artist_orm\u001b[49m\u001b[43m(\u001b[49m\u001b[38;5;124;43m'\u001b[39;49m\u001b[38;5;124;43mMetallica\u001b[39;49m\u001b[38;5;124;43m'\u001b[39;49m\u001b[43m)\u001b[49m\n\u001b[1;32m      8\u001b[0m \u001b[38;5;28;01mif\u001b[39;00m recent_album:\n\u001b[1;32m      9\u001b[0m     \u001b[38;5;28mprint\u001b[39m(\u001b[38;5;124mf\u001b[39m\u001b[38;5;124m\"\u001b[39m\u001b[38;5;124mEn son albüm: \u001b[39m\u001b[38;5;132;01m{\u001b[39;00mrecent_album\u001b[38;5;241m.\u001b[39mTitle\u001b[38;5;132;01m}\u001b[39;00m\u001b[38;5;124m\"\u001b[39m)\n",
      "Cell \u001b[0;32mIn[40], line 3\u001b[0m, in \u001b[0;36mget_most_recent_album_by_artist_orm\u001b[0;34m(artist_name)\u001b[0m\n\u001b[1;32m      1\u001b[0m \u001b[38;5;28;01mdef\u001b[39;00m \u001b[38;5;21mget_most_recent_album_by_artist_orm\u001b[39m(artist_name):\n\u001b[1;32m      2\u001b[0m     \u001b[38;5;66;03m# Verilen sanatçının en son albümünü ORM kullanarak alıyoruz\u001b[39;00m\n\u001b[0;32m----> 3\u001b[0m     recent_album \u001b[38;5;241m=\u001b[39m session\u001b[38;5;241m.\u001b[39mquery(Album)\u001b[38;5;241m.\u001b[39mjoin(Artist)\u001b[38;5;241m.\u001b[39mfilter(Artist\u001b[38;5;241m.\u001b[39mName \u001b[38;5;241m==\u001b[39m artist_name)\u001b[38;5;241m.\u001b[39morder_by(\u001b[43mAlbum\u001b[49m\u001b[38;5;241;43m.\u001b[39;49m\u001b[43mReleaseDate\u001b[49m\u001b[38;5;241m.\u001b[39mdesc())\u001b[38;5;241m.\u001b[39mfirst()\n\u001b[1;32m      4\u001b[0m     \u001b[38;5;28;01mreturn\u001b[39;00m recent_album\n",
      "\u001b[0;31mAttributeError\u001b[0m: type object 'Album' has no attribute 'ReleaseDate'"
     ]
    }
   ],
   "source": [
    "def get_most_recent_album_by_artist_orm(artist_name):\n",
    "    # Verilen sanatçının en son albümünü ORM kullanarak alıyoruz\n",
    "    recent_album = session.query(Album).join(Artist).filter(Artist.Name == artist_name).order_by(Album.ReleaseDate.desc()).first()\n",
    "    return recent_album\n",
    "\n",
    "# Metallica için en son albümü sorgulama\n",
    "recent_album = get_most_recent_album_by_artist_orm('Metallica')\n",
    "if recent_album:\n",
    "    print(f\"En son albüm: {recent_album.Title}\")\n",
    "else:\n",
    "    print(\"Sanatçının albümleri bulunamadı.\")\n"
   ]
  }
 ],
 "metadata": {
  "kernelspec": {
   "display_name": "Python 3",
   "language": "python",
   "name": "python3"
  },
  "language_info": {
   "codemirror_mode": {
    "name": "ipython",
    "version": 3
   },
   "file_extension": ".py",
   "mimetype": "text/x-python",
   "name": "python",
   "nbconvert_exporter": "python",
   "pygments_lexer": "ipython3",
   "version": "3.12.3"
  }
 },
 "nbformat": 4,
 "nbformat_minor": 2
}
